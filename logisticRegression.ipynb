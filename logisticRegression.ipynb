{
  "nbformat": 4,
  "nbformat_minor": 0,
  "metadata": {
    "colab": {
      "name": "logisticRegression.ipynb",
      "provenance": []
    },
    "kernelspec": {
      "name": "python3",
      "display_name": "Python 3"
    },
    "language_info": {
      "name": "python"
    }
  },
  "cells": [
    {
      "cell_type": "code",
      "execution_count": 18,
      "metadata": {
        "id": "_MZWhxlJIn-F"
      },
      "outputs": [],
      "source": [
        "from io import BytesIO\n",
        "import seaborn as sns;sns.set()\n",
        "import numpy as np \n",
        "import pandas as pd\n",
        "import matplotlib.pyplot as plt \n",
        "from sklearn.model_selection import train_test_split \n",
        "from sklearn.linear_model import LogisticRegression\n",
        "from sklearn import datasets\n",
        "from sklearn.preprocessing import StandardScaler\n",
        "from sklearn import metrics\n",
        "from sklearn.model_selection import cross_val_score\n",
        "\n",
        "from sklearn.metrics import confusion_matrix\n",
        "digits=datasets.load_digits()\n",
        "X_train,y_train=digits.data,digits.target\n",
        "Xtrain,Xtest,ytrain,ytest=train_test_split(X_train,y_train,test_size=0.2,random_state=0)\n",
        "classifier=LogisticRegression(C=50,multi_class='multinomial',penalty='l1',solver='saga',tol=0.1,verbose=0,n_jobs=-1)\n",
        "\n"
      ]
    },
    {
      "cell_type": "code",
      "source": [
        "from IPython.core.display import SVG\n",
        "classifier.fit(Xtrain,ytrain)\n",
        "y_predict=classifier.predict(Xtest)\n",
        "\n",
        "print(\"accuracy: \",np.round(metrics.accuracy_score(ytest,y_predict),4))\n",
        "print(\"precision: \",np.round(metrics.precision_score(ytest,y_predict,average='weighted'),4))\n",
        "print(\"recall :\",np.round(metrics.recall_score(ytest,y_predict,average=\"weighted\"),4))\n",
        "print(\"F1 score :\",np.round(metrics.f1_score(ytest,y_predict,average=\"weighted\"),4))\n",
        "cm=confusion_matrix(ytest,y_predict)\n",
        "sns.heatmap(cm.T,square=True,annot=True,fmt='d',cbar=False)\n",
        "plt.xlabel(\"True Label\")\n",
        "plt.ylabel(\"Predicted Label\")\n",
        "plt.savefig(\"Confussion_matrix.jpg\")\n",
        "f=BytesIO()\n",
        "plt.savefig(f,format='svg')\n",
        "\n",
        "\n",
        "\n",
        "\n",
        "scores = np.max(cross_val_score(classifier, Xtrain, ytrain, cv=10))\n",
        "print('Cross-Validation Accuracy Scores', scores)\n",
        "\n",
        "# accuracy:  0.9583\n",
        "# precision:  0.9598\n",
        "# recall : 0.9583\n",
        "# F1 score : 0.9583\n",
        "# Cross-Validation Accuracy Scores 0.9722222222222222\n",
        "# As we can see the model is overfit because the level of confidence \n",
        "# is smaller in the out sample data=95% confidence than\n",
        "# the trained data=97% confidence\n"
      ],
      "metadata": {
        "id": "mX2G1-7FJi3s"
      },
      "execution_count": null,
      "outputs": []
    }
  ]
}